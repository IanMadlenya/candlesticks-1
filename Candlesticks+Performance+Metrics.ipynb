{
 "cells": [
  {
   "cell_type": "markdown",
   "metadata": {
    "collapsed": true
   },
   "source": [
    "The aim of this notebook is to show how you can go about analysing the performance of candlestick patterns. Here we introduce the concept of a win loss ratio, where the candlestick is considered predictive if it predicts the correct direction of stock prices significantly more than 50% of the time. This notebook is designed to be implemented in Quantopian's research environment. More commentary on the code can be found on AAAQuant's Candlestick Pattern Study blog at aaaquants.com."
   ]
  },
  {
   "cell_type": "code",
   "execution_count": 61,
   "metadata": {
    "collapsed": true
   },
   "outputs": [],
   "source": [
    "import talib\n",
    "import numpy as np\n",
    "from matplotlib.pyplot import plot,show,subplots,legend\n",
    "import pandas as pd\n",
    "from quantopian.pipeline.factors.morningstar import MarketCap\n",
    "from quantopian.pipeline import Pipeline\n",
    "from quantopian.research import run_pipeline\n",
    "import seaborn as sns"
   ]
  },
  {
   "cell_type": "code",
   "execution_count": 62,
   "metadata": {
    "collapsed": true
   },
   "outputs": [],
   "source": [
    "def make_pipeline(x):\n",
    "    '''Create pipeline based on top x market cap'''\n",
    "    mktCap = MarketCap()\n",
    "    myMktCap = mktCap.top(x)\n",
    "    pipe = Pipeline()\n",
    "    pipe.set_screen(myMktCap)\n",
    "    \n",
    "    return pipe"
   ]
  },
  {
   "cell_type": "code",
   "execution_count": 63,
   "metadata": {
    "collapsed": false
   },
   "outputs": [],
   "source": [
    "def pipeline_output(x, d1):\n",
    "    '''Run the pipeline and let user specify x market cap at certain date'''\n",
    "    pipe = make_pipeline(x)\n",
    "    myPipe = run_pipeline(pipe, start_date=d1, end_date=d1)\n",
    "    \n",
    "    return myPipe"
   ]
  },
  {
   "cell_type": "code",
   "execution_count": 64,
   "metadata": {
    "collapsed": true
   },
   "outputs": [],
   "source": [
    "def get_stocks(x, d1):\n",
    "    '''Create list of stocks from multi index data frame for future analysis'''\n",
    "    \n",
    "    #Call the pipeline_output function and specify the market cap and date\n",
    "    #myPipe is a  multi index dataframe with date and stocks as the indices\n",
    "    myPipe = pipeline_output(x, d1)\n",
    "    \n",
    "    #Count the multi index to check there are correct number of stocks for the date. \n",
    "    #Assert will break the code if the number of stocks is incorrect.\n",
    "    assert(myPipe.reset_index().groupby('level_0')['level_1'].nunique()[0] == x)\n",
    "    \n",
    "    #Extract stocks from second level of index\n",
    "    #Iterate through stocks and create new list with just the symbols as strings from the index\n",
    "    myStocks = myPipe.index.get_level_values(1)\n",
    "    myStocks = [str(i.symbol) for i in myStocks]\n",
    "    \n",
    "    return myStocks"
   ]
  },
  {
   "cell_type": "code",
   "execution_count": 65,
   "metadata": {
    "collapsed": true
   },
   "outputs": [],
   "source": [
    "def forward_returns(priceData, periodList, x):\n",
    "    '''Calculates the periodList forward return e.g. 1min; x: how many stocks to go over'''\n",
    "    '''Adds priceData dataframe columns named FwdReturn1, FwdReturn5 for 1 min and 5 min fwd returns'''\n",
    "    for period in periodList:\n",
    "    #shifted for correlation analysis with indicator signal so they are on the same row for analysis \n",
    "        priceData['FwdReturn%s'%period] = (priceData['price'].pct_change(period*x)*100).shift(-period*x)\n",
    "    \n",
    "    return priceData"
   ]
  },
  {
   "cell_type": "code",
   "execution_count": 66,
   "metadata": {
    "collapsed": true
   },
   "outputs": [],
   "source": [
    "def prep_price_rets(x, d1, d2, freq, periodList):\n",
    "    '''Calling above functions'''\n",
    "    '''Generates multi index dataframe with columns for OHLC and different forward returns together'''\n",
    "    \n",
    "    #Call the get_stocks function to get list of stocks and name this list for future reference\n",
    "    myStocks = get_stocks(x, d1)\n",
    "    \n",
    "    #Use get_pricing to retrieve OHLC and volume data for each stock in myStocks\n",
    "    #priceData has been converted from panel to a multi index data frame\n",
    "    #fields are volume and price otherwise stocks that do not have OHLC data for the minute are excluded, ruining our forward return calculations.\n",
    "    priceData = get_pricing(myStocks, d1, d2, frequency=freq, fields=['volume','price']).fillna(0).to_frame()\n",
    "    assert(priceData.reset_index().groupby('major')['minor'].nunique()[0] == x)  #checking all stocks are there\n",
    "    priceRets = forward_returns(priceData, periodList, x)\n",
    "    \n",
    "    return priceRets"
   ]
  },
  {
   "cell_type": "code",
   "execution_count": 67,
   "metadata": {
    "collapsed": true
   },
   "outputs": [],
   "source": [
    "def get_all_indicators(priceDf):\n",
    "    a = []\n",
    "    try:\n",
    "        a.append(talib.CDL2CROWS(priceDf['open_price'],priceDf['high'],priceDf['low'],priceDf['price']))\n",
    "        a.append(talib.CDL3BLACKCROWS(priceDf['open_price'],priceDf['high'],priceDf['low'],priceDf['price']))\n",
    "        a.append(talib.CDL3INSIDE(priceDf['open_price'],priceDf['high'],priceDf['low'],priceDf['price']))\n",
    "        a.append(talib.CDL3LINESTRIKE(priceDf['open_price'],priceDf['high'],priceDf['low'],priceDf['price']))\n",
    "        a.append(talib.CDL3OUTSIDE(priceDf['open_price'],priceDf['high'],priceDf['low'],priceDf['price']))\n",
    "        a.append(talib.CDL3STARSINSOUTH(priceDf['open_price'],priceDf['high'],priceDf['low'],priceDf['price']))\n",
    "        a.append(talib.CDL3WHITESOLDIERS(priceDf['open_price'],priceDf['high'],priceDf['low'],priceDf['price']))\n",
    "        a.append(talib.CDLABANDONEDBABY(priceDf['open_price'],priceDf['high'],priceDf['low'],priceDf['price']))\n",
    "        a.append(talib.CDLADVANCEBLOCK(priceDf['open_price'],priceDf['high'],priceDf['low'],priceDf['price']))\n",
    "        a.append(talib.CDLBELTHOLD(priceDf['open_price'],priceDf['high'],priceDf['low'],priceDf['price']))\n",
    "        a.append(talib.CDLBREAKAWAY(priceDf['open_price'],priceDf['high'],priceDf['low'],priceDf['price']))\n",
    "        a.append(talib.CDLCLOSINGMARUBOZU(priceDf['open_price'],priceDf['high'],priceDf['low'],priceDf['price']))\n",
    "        a.append(talib.CDLCONCEALBABYSWALL(priceDf['open_price'],priceDf['high'],priceDf['low'],priceDf['price']))\n",
    "        a.append(talib.CDLCOUNTERATTACK(priceDf['open_price'],priceDf['high'],priceDf['low'],priceDf['price']))\n",
    "        a.append(talib.CDLDARKCLOUDCOVER(priceDf['open_price'],priceDf['high'],priceDf['low'],priceDf['price']))\n",
    "        a.append(talib.CDLDOJI(priceDf['open_price'],priceDf['high'],priceDf['low'],priceDf['price']))\n",
    "        a.append(talib.CDLDOJISTAR(priceDf['open_price'],priceDf['high'],priceDf['low'],priceDf['price']))\n",
    "        a.append(talib.CDLDRAGONFLYDOJI(priceDf['open_price'],priceDf['high'],priceDf['low'],priceDf['price']))\n",
    "        a.append(talib.CDLENGULFING(priceDf['open_price'],priceDf['high'],priceDf['low'],priceDf['price']))\n",
    "        a.append(talib.CDLEVENINGDOJISTAR(priceDf['open_price'],priceDf['high'],priceDf['low'],priceDf['price']))\n",
    "        a.append(talib.CDLEVENINGSTAR(priceDf['open_price'],priceDf['high'],priceDf['low'],priceDf['price']))\n",
    "        a.append(talib.CDLGAPSIDESIDEWHITE(priceDf['open_price'],priceDf['high'],priceDf['low'],priceDf['price']))\n",
    "        a.append(talib.CDLGRAVESTONEDOJI(priceDf['open_price'],priceDf['high'],priceDf['low'],priceDf['price']))\n",
    "        a.append(talib.CDLHAMMER(priceDf['open_price'],priceDf['high'],priceDf['low'],priceDf['price']))\n",
    "        a.append(talib.CDLHANGINGMAN(priceDf['open_price'],priceDf['high'],priceDf['low'],priceDf['price']))\n",
    "        a.append(talib.CDLHARAMI(priceDf['open_price'],priceDf['high'],priceDf['low'],priceDf['price']))\n",
    "        a.append(talib.CDLHARAMICROSS(priceDf['open_price'],priceDf['high'],priceDf['low'],priceDf['price']))\n",
    "        a.append(talib.CDLHIGHWAVE(priceDf['open_price'],priceDf['high'],priceDf['low'],priceDf['price']))\n",
    "        a.append(talib.CDLHIKKAKE(priceDf['open_price'],priceDf['high'],priceDf['low'],priceDf['price']))\n",
    "        a.append(talib.CDLHIKKAKEMOD(priceDf['open_price'],priceDf['high'],priceDf['low'],priceDf['price']))\n",
    "        a.append(talib.CDLHOMINGPIGEON(priceDf['open_price'],priceDf['high'],priceDf['low'],priceDf['price']))\n",
    "        a.append(talib.CDLIDENTICAL3CROWS(priceDf['open_price'],priceDf['high'],priceDf['low'],priceDf['price']))\n",
    "        a.append(talib.CDLINNECK(priceDf['open_price'],priceDf['high'],priceDf['low'],priceDf['price']))\n",
    "        a.append(talib.CDLINVERTEDHAMMER(priceDf['open_price'],priceDf['high'],priceDf['low'],priceDf['price']))\n",
    "        a.append(talib.CDLKICKING(priceDf['open_price'],priceDf['high'],priceDf['low'],priceDf['price']))\n",
    "        a.append(talib.CDLKICKINGBYLENGTH(priceDf['open_price'],priceDf['high'],priceDf['low'],priceDf['price']))\n",
    "        a.append(talib.CDLLADDERBOTTOM(priceDf['open_price'],priceDf['high'],priceDf['low'],priceDf['price']))\n",
    "        a.append(talib.CDLLONGLEGGEDDOJI(priceDf['open_price'],priceDf['high'],priceDf['low'],priceDf['price']))\n",
    "        a.append(talib.CDLLONGLINE(priceDf['open_price'],priceDf['high'],priceDf['low'],priceDf['price']))\n",
    "        a.append(talib.CDLMARUBOZU(priceDf['open_price'],priceDf['high'],priceDf['low'],priceDf['price']))\n",
    "        a.append(talib.CDLMATCHINGLOW(priceDf['open_price'],priceDf['high'],priceDf['low'],priceDf['price']))\n",
    "        a.append(talib.CDLMATHOLD(priceDf['open_price'],priceDf['high'],priceDf['low'],priceDf['price']))\n",
    "        a.append(talib.CDLMORNINGDOJISTAR(priceDf['open_price'],priceDf['high'],priceDf['low'],priceDf['price']))\n",
    "        a.append(talib.CDLMORNINGSTAR(priceDf['open_price'],priceDf['high'],priceDf['low'],priceDf['price']))\n",
    "        a.append(talib.CDLONNECK(priceDf['open_price'],priceDf['high'],priceDf['low'],priceDf['price']))\n",
    "        a.append(talib.CDLPIERCING(priceDf['open_price'],priceDf['high'],priceDf['low'],priceDf['price']))\n",
    "        a.append(talib.CDLRICKSHAWMAN(priceDf['open_price'],priceDf['high'],priceDf['low'],priceDf['price']))\n",
    "        a.append(talib.CDLRISEFALL3METHODS(priceDf['open_price'],priceDf['high'],priceDf['low'],priceDf['price']))\n",
    "        a.append(talib.CDLSEPARATINGLINES(priceDf['open_price'],priceDf['high'],priceDf['low'],priceDf['price']))\n",
    "        a.append(talib.CDLSHOOTINGSTAR(priceDf['open_price'],priceDf['high'],priceDf['low'],priceDf['price']))\n",
    "        a.append(talib.CDLSHORTLINE(priceDf['open_price'],priceDf['high'],priceDf['low'],priceDf['price']))\n",
    "        a.append(talib.CDLSPINNINGTOP(priceDf['open_price'],priceDf['high'],priceDf['low'],priceDf['price']))\n",
    "        a.append(talib.CDLSTALLEDPATTERN(priceDf['open_price'],priceDf['high'],priceDf['low'],priceDf['price']))\n",
    "        a.append(talib.CDLSTICKSANDWICH(priceDf['open_price'],priceDf['high'],priceDf['low'],priceDf['price']))\n",
    "        a.append(talib.CDLTAKURI(priceDf['open_price'],priceDf['high'],priceDf['low'],priceDf['price']))\n",
    "        a.append(talib.CDLTASUKIGAP(priceDf['open_price'],priceDf['high'],priceDf['low'],priceDf['price']))\n",
    "        a.append(talib.CDLTHRUSTING(priceDf['open_price'],priceDf['high'],priceDf['low'],priceDf['price']))\n",
    "        a.append(talib.CDLTRISTAR(priceDf['open_price'],priceDf['high'],priceDf['low'],priceDf['price']))\n",
    "        a.append(talib.CDLUNIQUE3RIVER(priceDf['open_price'],priceDf['high'],priceDf['low'],priceDf['price']))\n",
    "        a.append(talib.CDLUPSIDEGAP2CROWS(priceDf['open_price'],priceDf['high'],priceDf['low'],priceDf['price']))\n",
    "        a.append(talib.CDLXSIDEGAP3METHODS(priceDf['open_price'],priceDf['high'],priceDf['low'],priceDf['price']))\n",
    "    \n",
    "    except:\n",
    "        b = np.empty((len(priceDf),))\n",
    "        b[:] = np.nan\n",
    "        a.append(b)\n",
    "        \n",
    "    return np.array(a)"
   ]
  },
  {
   "cell_type": "code",
   "execution_count": 68,
   "metadata": {
    "collapsed": true
   },
   "outputs": [],
   "source": [
    "def prep_indicator(stockRets,INDICATOR):  #we will index reference the indicators\n",
    "    inds = get_all_indicators(stockRets)\n",
    "    ind = inds[INDICATOR]\n",
    "    \n",
    "    return ind"
   ]
  },
  {
   "cell_type": "code",
   "execution_count": 69,
   "metadata": {
    "collapsed": true
   },
   "outputs": [],
   "source": [
    "def initialise_signal_col(priceRets, INDICATOR,d1,d2,freq):\n",
    "    '''Creates signal column starting with first stock'''\n",
    "    \n",
    "    stockRets = prep_stock_rets(priceRets,0,d1,d2,freq)\n",
    "    ind = prep_indicator(stockRets,INDICATOR)\n",
    "    stockRets['indicator'] = ind \n",
    "    priceRets['sig'] = stockRets['indicator']\n",
    "    \n",
    "    return priceRets\n",
    "    "
   ]
  },
  {
   "cell_type": "code",
   "execution_count": 70,
   "metadata": {
    "collapsed": false
   },
   "outputs": [],
   "source": [
    "def prep_stock_rets(priceRets,i,d1,d2,freq):\n",
    "    stockRets = get_pricing(priceRets.index.get_level_values(1)[i],d1,d2,frequency=freq)\n",
    "    #since this does not have the minor axis of the equity name which is required to insert back into priceRets\n",
    "    iterables = [stockRets.index, [priceRets.index.get_level_values(1)[i]]]\n",
    "    new_index = pd.MultiIndex.from_product(iterables, names=['major', 'minor'])\n",
    "    stockRets.index = new_index\n",
    "    \n",
    "    return stockRets"
   ]
  },
  {
   "cell_type": "code",
   "execution_count": 71,
   "metadata": {
    "collapsed": true
   },
   "outputs": [],
   "source": [
    "def new_signal_col(priceRets,x,INDICATOR,d1,d2,freq):\n",
    "    '''Creates adjacent signal column for next stock, and then adds them to become one column'''\n",
    "    \n",
    "    for i in range(1,x):\n",
    "        stockRets = prep_stock_rets(priceRets,i,d1,d2,freq)\n",
    "        \n",
    "        ind = prep_indicator(stockRets,INDICATOR)\n",
    "        \n",
    "        stockRets['indicator'] = ind \n",
    "        priceRets['sig1'] = stockRets['indicator']\n",
    "        priceRets['sig'] = priceRets[['sig','sig1']].fillna(0).sum(axis=1)\n",
    "        priceRets.drop('sig1',inplace=True,axis=1,errors='ignore')\n",
    "    \n",
    "    return priceRets"
   ]
  },
  {
   "cell_type": "code",
   "execution_count": 72,
   "metadata": {
    "collapsed": false
   },
   "outputs": [],
   "source": [
    "#Calling initalise signal and new signal column functions\n",
    "#Returns priceRets a multi index dataframe with pricing data AND signal data \n",
    "def prep_signals(priceRets,x,INDICATOR,d1,d2,freq):\n",
    "    '''Functions to create a signal column from above and normalises it'''\n",
    "    \n",
    "    priceRets = initialise_signal_col(priceRets,INDICATOR,d1,d2,freq)\n",
    "    priceRets = new_signal_col(priceRets,x,INDICATOR,d1,d2,freq)\n",
    "    priceRets['sig'] = priceRets['sig']/100\n",
    "    \n",
    "    return priceRets"
   ]
  },
  {
   "cell_type": "code",
   "execution_count": 73,
   "metadata": {
    "collapsed": false
   },
   "outputs": [],
   "source": [
    "def check_signal_direction(priceRets, sigList, period):\n",
    "    '''Makes list of checking if signal direction matches fwd returns'''\n",
    "    '''+1 means signal correlated with return, -1 means signal is not correlated'''\n",
    "    sigList = [0 if sig == 0 else 1 if np.sign(sig) == np.sign(priceRets['FwdReturn%s'%period][i]) else -1 for i,sig in enumerate(priceRets['sig'])]\n",
    "    \n",
    "    priceRets['Match%s'%period] = sigList\n",
    "    sigList = []\n",
    "    \n",
    "    return priceRets, sigList"
   ]
  },
  {
   "cell_type": "code",
   "execution_count": 74,
   "metadata": {
    "collapsed": true
   },
   "outputs": [],
   "source": [
    "def prep_win_loss(priceRets, periodList):\n",
    "    '''Calling above function and returns priceRets df with signals'''\n",
    "    sigList = [] \n",
    "    for period in periodList:\n",
    "        priceRets, sigList = check_signal_direction(priceRets, sigList, period)\n",
    "    return priceRets "
   ]
  },
  {
   "cell_type": "code",
   "execution_count": 87,
   "metadata": {
    "collapsed": true
   },
   "outputs": [],
   "source": [
    "def calc_pnl(priceRets, periodList):\n",
    "    '''Calculates pnl by multiplying the fwd return and the signal for each period in periodList'''\n",
    "    for period in periodList:\n",
    "        priceRets['PnL%s'%period] = priceRets['FwdReturn%s'%period]*priceRets['sig']\n",
    "        \n",
    "    return priceRets"
   ]
  },
  {
   "cell_type": "code",
   "execution_count": 88,
   "metadata": {
    "collapsed": true
   },
   "outputs": [],
   "source": [
    "def create_price_rets(x, d1, d2, freq, periodList, INDICATOR):\n",
    "    '''Calls all above functions to form priceRets'''\n",
    "    priceRets = prep_price_rets(x, d1, d2, freq, periodList)\n",
    "    priceRets = prep_signals(priceRets,x,INDICATOR,d1,d2,freq)\n",
    "    priceRets = calc_pnl(priceRets, periodList)\n",
    "    priceRets = prep_win_loss(priceRets, periodList)\n",
    "    \n",
    "    return priceRets"
   ]
  },
  {
   "cell_type": "code",
   "execution_count": 89,
   "metadata": {
    "collapsed": true
   },
   "outputs": [],
   "source": [
    "def win_loss_ratio(priceRets,period):\n",
    "    '''Calculates win loss ratio based on number of good matches over sum of good and bad matches'''\n",
    "    goodMatch = float(len(priceRets[priceRets['Match%s'%period]==1]))\n",
    "    badMatch = float(len(priceRets[priceRets['Match%s'%period]==-1]))\n",
    "    \n",
    "    if (goodMatch+badMatch) != 0.0:\n",
    "        winLossRatio = goodMatch/(goodMatch+badMatch)\n",
    "    else:\n",
    "        winLossRatio = 0.0\n",
    "    \n",
    "    return winLossRatio"
   ]
  },
  {
   "cell_type": "code",
   "execution_count": 90,
   "metadata": {
    "collapsed": false
   },
   "outputs": [],
   "source": [
    "def all_win_loss_ratios(priceRets,periodList):\n",
    "    '''Adds win loss ratios to list for each period in user specified period list'''\n",
    "    '''Calls above function'''\n",
    "    winLossRatios = []\n",
    "    for period in periodList:\n",
    "        winLossRatio = win_loss_ratio(priceRets,period)\n",
    "        winLossRatios.append(winLossRatio)\n",
    "        \n",
    "    return winLossRatios"
   ]
  },
  {
   "cell_type": "code",
   "execution_count": 91,
   "metadata": {
    "collapsed": true
   },
   "outputs": [],
   "source": [
    "def scaled_win_loss_ratio(priceRets,period):\n",
    "    '''Calculates win loss ratio but scaled by multiplying pnl'''\n",
    "    '''We can make sure the returns made with correct predictions outweigh'''\n",
    "    goodPnL = np.sum(priceRets[priceRets['Match%s'%period]==1]['PnL%s'%period])\n",
    "    badPnL = abs(np.sum(priceRets[priceRets['Match%s'%period]==-1]['PnL%s'%period]))\n",
    "    \n",
    "    if (goodPnL+badPnL) != 0.0:\n",
    "        scaledWinLossRatio = goodPnL/(goodPnL+badPnL)\n",
    "    else:\n",
    "        scaledWinLossRatio = 0.0\n",
    "    \n",
    "    return scaledWinLossRatio"
   ]
  },
  {
   "cell_type": "code",
   "execution_count": 92,
   "metadata": {
    "collapsed": true
   },
   "outputs": [],
   "source": [
    "def all_scaled_win_loss_ratios(priceRets,periodList):\n",
    "    '''Adds scaled win loss ratios to list for each period in user specified period list'''\n",
    "    scaledWinLossRatios = []\n",
    "    for period in periodList:\n",
    "        scaledWinLossRatio = scaled_win_loss_ratio(priceRets,period)\n",
    "        scaledWinLossRatios.append(scaledWinLossRatio)\n",
    "    \n",
    "    return scaledWinLossRatios"
   ]
  },
  {
   "cell_type": "code",
   "execution_count": 93,
   "metadata": {
    "collapsed": false
   },
   "outputs": [],
   "source": [
    "def metrics(priceRets,periodList):\n",
    "    winLossRatios = all_win_loss_ratios(priceRets,periodList)\n",
    "    scaledWinLossRatios = all_scaled_win_loss_ratios(priceRets,periodList)\n",
    "    \n",
    "    return winLossRatios, scaledWinLossRatios"
   ]
  },
  {
   "cell_type": "code",
   "execution_count": 94,
   "metadata": {
    "collapsed": true
   },
   "outputs": [],
   "source": [
    "def index_names():\n",
    "    indNames = []\n",
    "    for indName in dir(talib):\n",
    "        if 'CDL' in indName:\n",
    "            indNames.append(indName)\n",
    "    \n",
    "    return indNames"
   ]
  },
  {
   "cell_type": "code",
   "execution_count": 95,
   "metadata": {
    "collapsed": true
   },
   "outputs": [],
   "source": [
    "def prep_heatmap(visualDf,myMetric,periodList,INDICATOR):\n",
    "    '''Preparing visualisation dataframes'''\n",
    "    \n",
    "    indName = index_names()[INDICATOR]\n",
    "    visualDf['%s'%indName] = pd.Series(myMetric,index=periodList)\n",
    "    \n",
    "    return visualDf"
   ]
  },
  {
   "cell_type": "code",
   "execution_count": 96,
   "metadata": {
    "collapsed": true
   },
   "outputs": [],
   "source": [
    "def plot_heatmap(heatmapDf,mid):\n",
    "    subplots(figsize=(35,10))\n",
    "    sns.heatmap(heatmapDf,center=mid,annot=True,cmap=\"coolwarm_r\")"
   ]
  },
  {
   "cell_type": "code",
   "execution_count": null,
   "metadata": {
    "collapsed": false,
    "scrolled": false
   },
   "outputs": [],
   "source": [
    "#priceRets is the new multi index dataframe with columns for OHLC and different forward returns\n",
    "#user specifies the number of x stocks \n",
    "x = 25\n",
    "d1 = '2017-12-01'\n",
    "d2 = '2017-12-23'\n",
    "freq = 'minute'\n",
    "periodList = [1,5,10]\n",
    "visualDf1 = pd.DataFrame()\n",
    "visualDf2 = pd.DataFrame()\n",
    "visualDf3 = pd.DataFrame()\n",
    "\n",
    "for INDICATOR in range(len(index_names())):\n",
    "\n",
    "    priceRets = create_price_rets(x, d1, d2, freq, periodList, INDICATOR)\n",
    "    winLossRatios, scaledWinLossRatios = metrics(priceRets,periodList)\n",
    "    \n",
    "    heatmapDf1 = prep_heatmap(visualDf1,winLossRatios,periodList,INDICATOR)\n",
    "    heatmapDf2 = prep_heatmap(visualDf2,scaledWinLossRatios,periodList,INDICATOR)\n",
    "    \n",
    "plot_heatmap(heatmapDf1,0.5)\n",
    "plot_heatmap(heatmapDf2,0.5)"
   ]
  },
  {
   "cell_type": "code",
   "execution_count": null,
   "metadata": {
    "collapsed": true
   },
   "outputs": [],
   "source": []
  },
  {
   "cell_type": "code",
   "execution_count": null,
   "metadata": {
    "collapsed": true
   },
   "outputs": [],
   "source": []
  }
 ],
 "metadata": {
  "kernelspec": {
   "display_name": "Python 2",
   "language": "python",
   "name": "python2"
  },
  "language_info": {
   "codemirror_mode": {
    "name": "ipython",
    "version": 2
   },
   "file_extension": ".py",
   "mimetype": "text/x-python",
   "name": "python",
   "nbconvert_exporter": "python",
   "pygments_lexer": "ipython2",
   "version": "2.7.12"
  }
 },
 "nbformat": 4,
 "nbformat_minor": 2
}