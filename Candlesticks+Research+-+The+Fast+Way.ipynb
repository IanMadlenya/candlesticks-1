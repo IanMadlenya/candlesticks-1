{
 "cells": [
  {
   "cell_type": "markdown",
   "metadata": {},
   "source": [
    "The aim of this notebook is to improve on the previous Candlestick Study notebooks and demonstrate how to run the analysis faster through building Custom Factors. This notebook is designed to be implemented in Quantopian's research environment with Pipeline. More commentary on the code can be found on AAAQuant's Candlestick Pattern Study blog at aaaquants.com."
   ]
  },
  {
   "cell_type": "code",
   "execution_count": 232,
   "metadata": {
    "collapsed": true
   },
   "outputs": [],
   "source": [
    "import talib\n",
    "import numpy as np\n",
    "from numpy import nan, isnan\n",
    "from matplotlib.pyplot import plot,show,subplots,legend,boxplot\n",
    "import pandas as pd\n",
    "from quantopian.pipeline.factors.morningstar import MarketCap\n",
    "from quantopian.pipeline import Pipeline, CustomFactor\n",
    "from quantopian.research import run_pipeline\n",
    "from quantopian.pipeline import CustomFactor\n",
    "from quantopian.pipeline.data.builtin import USEquityPricing as USEP\n",
    "import seaborn as sns\n",
    "import matplotlib.pyplot as plt\n",
    "import heapq\n",
    "from quantopian.pipeline.filters import Q500US\n",
    "from quantopian.pipeline.factors.morningstar import MarketCap\n"
   ]
  },
  {
   "cell_type": "code",
   "execution_count": 824,
   "metadata": {
    "collapsed": false
   },
   "outputs": [],
   "source": [
    "def columnwise_anynan(array2d):\n",
    "    # isnan will be broadcasted over the array to produce a 2D array of bools.\n",
    "    # array.any(axis=0) gives us a 1D array whose length is equal to the\n",
    "    # number of columns in the array.\n",
    "    return isnan(array2d).any(axis=0)\n",
    "\n",
    "\n",
    "class cdl_indicator(CustomFactor):\n",
    "    inputs = [USEP.open, USEP.high, USEP.low, USEP.close]\n",
    "    window_length = 30\n",
    "    \n",
    "    def compute(self, today, assets, out, open, high, low, close):\n",
    "        \"\"\"\n",
    "        Compute WILLR on each column of high, low, and close.\n",
    "        \"\"\"\n",
    "        # Assume that a nan in high implies a nan in low or close.\n",
    "        # If we had datasets from different sources, we'd probably\n",
    "        # want to do something like:\n",
    "        # columnwise_anynan(high) | columnwise_anynan(low) | columnwise_anynan(close).\n",
    "        anynan = columnwise_anynan(high)\n",
    "        \n",
    "        # In general, it's a bad practice to iterate over numpy arrays like this in pure\n",
    "        # python. Unfortunately, TALib doesn't provide us with an API to vectorize\n",
    "        # operations over 2D arrays, so we're stuck with doing this.\n",
    "        # A nice improvement to Zipline would be to provide a module that does this \n",
    "        # efficiently in Cython.\n",
    "        for col_ix, have_nans in enumerate(anynan):\n",
    "            \n",
    "            # If we have nans in the input (e.g., because an asset didn't trade for a \n",
    "            # full day, or because the asset hasn't existed for 14 days), just forward\n",
    "            # the NaN.\n",
    "            if have_nans:\n",
    "                out[col_ix] = nan\n",
    "                continue \n",
    "            \n",
    "            # Compute our actual WILLR value.\n",
    "            # The [:, ix] syntax here is telling Numpy to slice along the second dimension.\n",
    "            # Just doing array[ix] would give us rows instead of columns\n",
    "            results = talib.CDLUNIQUE3RIVER(\n",
    "                open[:, col_ix],\n",
    "                high[:, col_ix], \n",
    "                low[:, col_ix], \n",
    "                close[:, col_ix], \n",
    "            )\n",
    "            \n",
    "            # Results is a length 14 array containing 13 leading NaNs and then the actual value\n",
    "            # we care about.  Needless to say, this is less efficient than it could be.\n",
    "            out[col_ix] = results[-4]/100.\n",
    "            \n",
    "            \n",
    "class close_Price(CustomFactor):  \n",
    "    # Define inputs\n",
    "    inputs = [USEquityPricing.close]\n",
    "    window_length = 4\n",
    "    \n",
    "    def compute(self, today, assets, out, close):  \n",
    "        out[:] = close[-4]\n",
    "            \n",
    "class forward_return3(CustomFactor):\n",
    "    inputs = [USEquityPricing.close]\n",
    "    window_length = 4\n",
    "    \n",
    "    def compute(self, today, assets, out, close):\n",
    "        out[:] = ((close[-1] - close[-4])/close[-4]) * 100   #[0] is furthest away \n",
    "\n",
    "\n",
    "class forward_return2(CustomFactor):\n",
    "    inputs = [USEquityPricing.close]\n",
    "    window_length = 4\n",
    "    \n",
    "    def compute(self, today, assets, out, close):\n",
    "        out[:] = ((close[-2] - close[-4])/close[-4]) * 100\n",
    "            \n",
    "class forward_return1(CustomFactor):\n",
    "    inputs = [USEquityPricing.close]\n",
    "    window_length = 4\n",
    "    \n",
    "    def compute(self, today, assets, out, close):\n",
    "        out[:] = ((close[-3] - close[-4])/close[-4]) * 100\n",
    "\n",
    "\n",
    "def make_pipeline():\n",
    "       \n",
    "    sig = cdl_indicator()\n",
    "    price = close_Price()\n",
    "    fwdReturn3 = forward_return3()\n",
    "    fwdReturn2 = forward_return2()\n",
    "    fwdReturn1 = forward_return1()\n",
    "    \n",
    "    \n",
    "    return Pipeline(\n",
    "        columns={\n",
    "            'sig': sig,\n",
    "            'price': price,\n",
    "            'FwdReturn3': fwdReturn3,\n",
    "            'FwdReturn2': fwdReturn2,\n",
    "            'FwdReturn1': fwdReturn1\n",
    "        },\n",
    "        screen=Q500US()\n",
    "        #screen=myMktCap\n",
    "    )         "
   ]
  },
  {
   "cell_type": "code",
   "execution_count": 857,
   "metadata": {
    "collapsed": true
   },
   "outputs": [],
   "source": [
    "d1 = '2016-06-01'\n",
    "d2 = '2017-12-31'\n",
    "def pipeline_output(d1,d2):\n",
    "    pipe = make_pipeline()\n",
    "    myPipe = run_pipeline(pipe, start_date=d1, end_date=d2)\n",
    "    \n",
    "    return myPipe"
   ]
  },
  {
   "cell_type": "code",
   "execution_count": 858,
   "metadata": {
    "collapsed": false
   },
   "outputs": [],
   "source": [
    "myPipe = pipeline_output(d1,d2)"
   ]
  },
  {
   "cell_type": "code",
   "execution_count": 859,
   "metadata": {
    "collapsed": true
   },
   "outputs": [],
   "source": [
    "assert(len(myPipe[myPipe['sig']!=0]>1))"
   ]
  },
  {
   "cell_type": "code",
   "execution_count": 860,
   "metadata": {
    "collapsed": true
   },
   "outputs": [],
   "source": [
    "myPipe = myPipe.fillna(0)"
   ]
  },
  {
   "cell_type": "code",
   "execution_count": 861,
   "metadata": {
    "collapsed": false
   },
   "outputs": [],
   "source": [
    "periodList = [1,2,3]"
   ]
  },
  {
   "cell_type": "code",
   "execution_count": 862,
   "metadata": {
    "collapsed": true
   },
   "outputs": [],
   "source": [
    "def calc_pnl(priceRets, periodList):\n",
    "    '''Calculates pnl by multiplying the fwd return and the signal for each period in periodList'''\n",
    "    for period in periodList:\n",
    "        priceRets['PnL%s'%period] = priceRets['FwdReturn%s'%period]*priceRets['sig']\n",
    "        \n",
    "    return priceRets"
   ]
  },
  {
   "cell_type": "code",
   "execution_count": 863,
   "metadata": {
    "collapsed": true
   },
   "outputs": [],
   "source": [
    "def check_signal_direction(priceRets, periodList):\n",
    "    '''Makes list of checking if signal direction matches fwd returns'''\n",
    "    '''+1 means signal correlated with return, -1 means signal is not correlated'''\n",
    "    \n",
    "    for period in periodList:\n",
    "        sigList = [0 if sig == 0 else 1 if np.sign(sig) == np.sign(priceRets['FwdReturn%s'%period][i]) else -1 for i,sig in enumerate(priceRets['sig'])]\n",
    "        priceRets['Match%s'%period] = sigList\n",
    "    \n",
    "    return priceRets"
   ]
  },
  {
   "cell_type": "code",
   "execution_count": 864,
   "metadata": {
    "collapsed": false
   },
   "outputs": [],
   "source": [
    "myPipe = calc_pnl(myPipe,periodList)\n",
    "myPipe = check_signal_direction(myPipe,periodList)"
   ]
  },
  {
   "cell_type": "code",
   "execution_count": 865,
   "metadata": {
    "collapsed": true
   },
   "outputs": [],
   "source": [
    "def win_loss_ratio(priceRets,period):\n",
    "    '''Calculates win loss ratio based on number of good matches over sum of good and bad matches'''\n",
    "    goodMatch = float(len(priceRets[priceRets['Match%s'%period]==1]))\n",
    "    badMatch = float(len(priceRets[priceRets['Match%s'%period]==-1]))\n",
    "    \n",
    "    if (goodMatch+badMatch) != 0.0:\n",
    "        winLossRatio = goodMatch/(goodMatch+badMatch)\n",
    "    else:\n",
    "        winLossRatio = 0.0\n",
    "    \n",
    "    return winLossRatio"
   ]
  },
  {
   "cell_type": "code",
   "execution_count": 866,
   "metadata": {
    "collapsed": true
   },
   "outputs": [],
   "source": [
    "def all_win_loss_ratios(priceRets,periodList):\n",
    "    '''Adds win loss ratios to list for each period in user specified period list'''\n",
    "    '''Calls above function'''\n",
    "    winLossRatios = []\n",
    "    for period in periodList:\n",
    "        winLossRatio = win_loss_ratio(priceRets,period)\n",
    "        winLossRatios.append(winLossRatio)\n",
    "        \n",
    "    return winLossRatios"
   ]
  },
  {
   "cell_type": "code",
   "execution_count": 867,
   "metadata": {
    "collapsed": true
   },
   "outputs": [],
   "source": [
    "def scaled_win_loss_ratio(priceRets,period):\n",
    "    '''Calculates win loss ratio but scaled by multiplying pnl'''\n",
    "    '''We can make sure the returns made with correct predictions outweigh'''\n",
    "    goodPnL = np.sum(priceRets[priceRets['Match%s'%period]==1]['PnL%s'%period])\n",
    "    badPnL = abs(np.sum(priceRets[priceRets['Match%s'%period]==-1]['PnL%s'%period]))\n",
    "    \n",
    "    if (goodPnL+badPnL) != 0.0:\n",
    "        scaledWinLossRatio = goodPnL/(goodPnL+badPnL)\n",
    "    else:\n",
    "        scaledWinLossRatio = 0.0\n",
    "    \n",
    "    return scaledWinLossRatio"
   ]
  },
  {
   "cell_type": "code",
   "execution_count": 868,
   "metadata": {
    "collapsed": true
   },
   "outputs": [],
   "source": [
    "def all_scaled_win_loss_ratios(priceRets,periodList):\n",
    "    '''Adds scaled win loss ratios to list for each period in user specified period list'''\n",
    "    scaledWinLossRatios = []\n",
    "    for period in periodList:\n",
    "        scaledWinLossRatio = scaled_win_loss_ratio(priceRets,period)\n",
    "        scaledWinLossRatios.append(scaledWinLossRatio)\n",
    "    \n",
    "    return scaledWinLossRatios"
   ]
  },
  {
   "cell_type": "code",
   "execution_count": 869,
   "metadata": {
    "collapsed": true
   },
   "outputs": [],
   "source": [
    "def sum_pos(x,tradeSign):\n",
    "    '''Returns number of pos/neg signals for a certain date'''\n",
    "    sums = 0\n",
    "    for y in x: \n",
    "        if y == tradeSign:\n",
    "            sums = sums + 1\n",
    "    return sums"
   ]
  },
  {
   "cell_type": "code",
   "execution_count": 870,
   "metadata": {
    "collapsed": true
   },
   "outputs": [],
   "source": [
    "def longs_shorts_sum(priceRets):\n",
    "    longs = priceRets['sig'].groupby(priceRets.index.get_level_values(0)).apply(lambda x: sum_pos(x,1))\n",
    "    shorts = priceRets['sig'].groupby(priceRets.index.get_level_values(0)).apply(lambda x: sum_pos(x,-1))\n",
    "    \n",
    "    return longs,shorts"
   ]
  },
  {
   "cell_type": "code",
   "execution_count": 871,
   "metadata": {
    "collapsed": true
   },
   "outputs": [],
   "source": [
    "def pos_count(abc,period):\n",
    "    '''Counts long/short positions for each date taking into account exited positions from period minutes ago'''\n",
    "    xyz = abc.shift(period).fillna(0)\n",
    "    \n",
    "    prevPosCount = 0\n",
    "    posCounts = []\n",
    "    abcxyz = zip(abc,xyz)\n",
    "    \n",
    "    for v in abcxyz:\n",
    "        posCount = v[0] + prevPosCount - v[1]\n",
    "        posCounts.append(posCount)\n",
    "        \n",
    "        prevPosCount = posCount\n",
    "        \n",
    "    return np.array(posCounts)"
   ]
  },
  {
   "cell_type": "code",
   "execution_count": 872,
   "metadata": {
    "collapsed": true
   },
   "outputs": [],
   "source": [
    "def max_pos(priceRets,period):\n",
    "    '''We find the 10th highest number of long positions at any one time that we hold to divide returns with'''\n",
    "    longs,shorts = longs_shorts_sum(priceRets)\n",
    "    longPosCount = pos_count(longs,period)\n",
    "    shortPosCount = pos_count(shorts,period)\n",
    "    netPosCount = longPosCount - shortPosCount\n",
    "    maxNetPos = int(0.8*max(netPosCount))  #sometimes we will be overleveraged\n",
    "    \n",
    "    return maxNetPos,netPosCount"
   ]
  },
  {
   "cell_type": "code",
   "execution_count": 873,
   "metadata": {
    "collapsed": true
   },
   "outputs": [],
   "source": [
    "def mean_pnl(priceRets,period):\n",
    "    \n",
    "    priceRets['PnL%s'%period] = priceRets['PnL%s'%period].fillna(0)\n",
    "    maxNetPos,netPosCount = max_pos(priceRets,period)\n",
    "    \n",
    "    meanPnL = priceRets['PnL%s'%period].groupby(priceRets.index.get_level_values(0)).apply(lambda x: np.sum(x))/float(maxNetPos)\n",
    "    meanPnL = meanPnL.replace(np.inf, 0)\n",
    "    meanPnL = meanPnL.replace(-np.inf,0)\n",
    "    \n",
    "    return meanPnL"
   ]
  },
  {
   "cell_type": "code",
   "execution_count": 874,
   "metadata": {
    "collapsed": true
   },
   "outputs": [],
   "source": [
    "def net_pnl(priceRets,period):\n",
    "    '''Calculates net pnl'''\n",
    "    meanPnL = mean_pnl(priceRets,period)\n",
    "    netMeanPnL = np.sum(meanPnL)\n",
    "    \n",
    "    return netMeanPnL"
   ]
  },
  {
   "cell_type": "code",
   "execution_count": 875,
   "metadata": {
    "collapsed": true
   },
   "outputs": [],
   "source": [
    "def all_net_pnls(priceRets,periodList):\n",
    "    '''Adds net pnls to list for each period in user specified period list'''\n",
    "    netPnLs = []\n",
    "    for period in periodList:\n",
    "        netPnL = net_pnl(priceRets,period)\n",
    "        netPnLs.append(netPnL)\n",
    "    \n",
    "    return netPnLs"
   ]
  },
  {
   "cell_type": "code",
   "execution_count": 876,
   "metadata": {
    "collapsed": true
   },
   "outputs": [],
   "source": [
    "def metrics(priceRets,periodList):\n",
    "    winLossRatios = all_win_loss_ratios(priceRets,periodList)\n",
    "    scaledWinLossRatios = all_scaled_win_loss_ratios(priceRets,periodList)\n",
    "    netPnLs = all_net_pnls(priceRets,periodList)\n",
    "    \n",
    "    return winLossRatios, scaledWinLossRatios, netPnLs"
   ]
  },
  {
   "cell_type": "code",
   "execution_count": 877,
   "metadata": {
    "collapsed": false
   },
   "outputs": [],
   "source": [
    "winLossRatios,scaledWinLossRatios,netPnLs = metrics(myPipe,periodList)"
   ]
  },
  {
   "cell_type": "code",
   "execution_count": 878,
   "metadata": {
    "collapsed": true
   },
   "outputs": [],
   "source": [
    "def prep_visuals(visualDf1,priceRets,period):\n",
    "    visualDf1['meanPnL%s'%period] = mean_pnl(priceRets,period).fillna(0)\n",
    "    \n",
    "    return visualDf1"
   ]
  },
  {
   "cell_type": "code",
   "execution_count": 879,
   "metadata": {
    "collapsed": true
   },
   "outputs": [],
   "source": [
    "visualDf1 = pd.DataFrame()\n",
    "for period in periodList:\n",
    "    visualDf1 = prep_visuals(visualDf1,myPipe,period)"
   ]
  },
  {
   "cell_type": "code",
   "execution_count": 880,
   "metadata": {
    "collapsed": true
   },
   "outputs": [],
   "source": [
    "def metrics_per_trade(priceRets,periodList,visualDf1):\n",
    "    numTrades = len(priceRets.dropna()[priceRets.dropna()['sig']!=0])\n",
    "    avgPnLs = []\n",
    "    \n",
    "    for period in periodList:\n",
    "        if numTrades != 0:\n",
    "            avgPnL = np.sum(visualDf1['meanPnL%s'%period])/numTrades\n",
    "        else:\n",
    "            avgPnL = 0\n",
    "        avgPnLs.append(avgPnL)\n",
    "\n",
    "    avgPnLs = pd.Series(avgPnLs,index=periodList)\n",
    "   \n",
    "    return avgPnLs, numTrades"
   ]
  },
  {
   "cell_type": "code",
   "execution_count": 881,
   "metadata": {
    "collapsed": true
   },
   "outputs": [],
   "source": [
    "avgPnLs,numTrades = metrics_per_trade(myPipe,periodList,visualDf1)"
   ]
  },
  {
   "cell_type": "code",
   "execution_count": 882,
   "metadata": {
    "collapsed": false
   },
   "outputs": [
    {
     "data": {
      "text/plain": [
       "(1    0.022212\n",
       " 2    0.049263\n",
       " 3    0.037335\n",
       " dtype: float64, 298)"
      ]
     },
     "execution_count": 882,
     "metadata": {},
     "output_type": "execute_result"
    }
   ],
   "source": [
    "avgPnLs,numTrades"
   ]
  },
  {
   "cell_type": "code",
   "execution_count": 883,
   "metadata": {
    "collapsed": false
   },
   "outputs": [
    {
     "data": {
      "image/png": "[encoded data removed]",
      "text/plain": [
       "<matplotlib.figure.Figure at 0x7f828158bf50>"
      ]
     },
     "metadata": {},
     "output_type": "display_data"
    }
   ],
   "source": [
    "plt.plot(np.cumsum(visualDf1['meanPnL3']),label='Indicator Performance')\n",
    "plt.title('Cumulative PnL')\n",
    "plt.legend()\n",
    "plt.show()"
   ]
  },
  {
   "cell_type": "code",
   "execution_count": 853,
   "metadata": {
    "collapsed": false
   },
   "outputs": [],
   "source": [
    "from pandas.tseries.offsets import BDay\n",
    "visualDf1.index = visualDf1.index - BDay(4)"
   ]
  },
  {
   "cell_type": "code",
   "execution_count": 854,
   "metadata": {
    "collapsed": false
   },
   "outputs": [],
   "source": [
    "stdDay1 = visualDf1['meanPnL1'].groupby((visualDf1.index.unique()).dayofweek).std()\n",
    "stdDay2 = visualDf1['meanPnL2'].groupby((visualDf1.index.unique()).dayofweek).std()\n",
    "stdDay3 = visualDf1['meanPnL3'].groupby((visualDf1.index.unique()).dayofweek).std()\n",
    "dayDict = {0:'Mon',1:'Tue',2:'Wed',3:'Thurs',4:'Fri'}\n",
    "stdDay1.index = [dayDict[stdDay1.index[i]] for i in stdDay1.index]"
   ]
  },
  {
   "cell_type": "code",
   "execution_count": 856,
   "metadata": {
    "collapsed": false
   },
   "outputs": [
    {
     "data": {
      "image/png": "[encoded data removed]",
      "text/plain": [
       "<matplotlib.figure.Figure at 0x7f828e09c910>"
      ]
     },
     "metadata": {},
     "output_type": "display_data"
    }
   ],
   "source": [
    "plt.plot(stdDay1.values,label='Exit after 1 day')\n",
    "plt.plot(stdDay2.values,label='Exit after 2 days')\n",
    "plt.plot(stdDay3.values,label='Exit after 3 days')\n",
    "x = [0,1,2,3,4]\n",
    "plt.xticks(x, stdDay1.index)\n",
    "plt.title('Std of Mean PnL')\n",
    "plt.legend();"
   ]
  },
  {
   "cell_type": "code",
   "execution_count": null,
   "metadata": {
    "collapsed": true
   },
   "outputs": [],
   "source": []
  }
 ],
 "metadata": {
  "kernelspec": {
   "display_name": "Python 2",
   "language": "python",
   "name": "python2"
  },
  "language_info": {
   "codemirror_mode": {
    "name": "ipython",
    "version": 2
   },
   "file_extension": ".py",
   "mimetype": "text/x-python",
   "name": "python",
   "nbconvert_exporter": "python",
   "pygments_lexer": "ipython2",
   "version": "2.7.12"
  }
 },
 "nbformat": 4,
 "nbformat_minor": 2
}